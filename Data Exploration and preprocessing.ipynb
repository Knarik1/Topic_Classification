{
 "cells": [
  {
   "cell_type": "markdown",
   "metadata": {},
   "source": [
    "## Imports"
   ]
  },
  {
   "cell_type": "code",
   "execution_count": 38,
   "metadata": {},
   "outputs": [],
   "source": [
    "import numpy as np\n",
    "import pandas as pd\n",
    "import matplotlib.pyplot as plt\n",
    "\n",
    "import nltk\n",
    "from nltk.tokenize import WhitespaceTokenizer"
   ]
  },
  {
   "cell_type": "markdown",
   "metadata": {},
   "source": [
    "## Loading data"
   ]
  },
  {
   "cell_type": "code",
   "execution_count": 2,
   "metadata": {},
   "outputs": [],
   "source": [
    "df = pd.read_csv('./data/train.txt', delimiter = \"\\t\", names=[\"class\", \"text\"])"
   ]
  },
  {
   "cell_type": "code",
   "execution_count": 3,
   "metadata": {},
   "outputs": [],
   "source": [
    "# Set this option to view the whole text in columns\n",
    "pd.set_option('display.max_colwidth', None) "
   ]
  },
  {
   "cell_type": "code",
   "execution_count": 4,
   "metadata": {},
   "outputs": [
    {
     "data": {
      "text/html": [
       "<div>\n",
       "<style scoped>\n",
       "    .dataframe tbody tr th:only-of-type {\n",
       "        vertical-align: middle;\n",
       "    }\n",
       "\n",
       "    .dataframe tbody tr th {\n",
       "        vertical-align: top;\n",
       "    }\n",
       "\n",
       "    .dataframe thead th {\n",
       "        text-align: right;\n",
       "    }\n",
       "</style>\n",
       "<table border=\"1\" class=\"dataframe\">\n",
       "  <thead>\n",
       "    <tr style=\"text-align: right;\">\n",
       "      <th></th>\n",
       "      <th>class</th>\n",
       "      <th>text</th>\n",
       "    </tr>\n",
       "  </thead>\n",
       "  <tbody>\n",
       "    <tr>\n",
       "      <th>0</th>\n",
       "      <td>0</td>\n",
       "      <td>When the Pittsburgh Penguins had a 2-0 series lead in the Stanley Cup Finals, the only question seemed to be when, not if, the team would collect its second straight title. Now, after losing back-to-back games to the No. 8 seed Nashville Predators, the situation has gotten so dire that the Penguins may be considering hockey’s nuclear option: switching goaltenders.After Pittsburgh’s Game 4 loss on Monday, coach Mike Sullivan declined to say if Matt Murray would start between the pipes for Thursday’s Game 5. After the team gave up a combined nine goals in its two losses, some have clamored for veteran Marc-Andre Fleury to step in for the 23-year-old Murray.But such a switch would be unprecedented in recent history: No goalie has started Game 5 or later in the Finals after not having started any of the first four since at least 1990, according to Stats LLC.The only reason the Penguins are in this position is because of their absurd depth at the position. They have one of the top young talents in Murray, who leapfrogged Fleury a year ago to lead the team to the title as a rookie. And Fleury, a two-time All-Star who was in net when the team won in 2009, has already been the team’s savior this postseason, highlighted by a shutout in Game 7 of the Eastern Conference semifinals.This decision—or non-decision—is made even more difficult by the fact that their performances have been so indistinguishable this postseason. Murray, despite his recent struggles, has a .925 save percentage this postseason. That’s one thousandth of a point higher than Fleury’s .924. Murray, meanwhile, is 5-3 as a starter during the playoffs compared with Fleury’s 9-6 record.But to realize why the switch may be rash, Pittsburgh has to look no further than its opponent. Amid doubts about Pekka Rinne’s performance in net to start the series, Nashville coach Peter Laviolette made the smartest move of the series by doing absolutely nothing. Now the series is tied because of that.Not panicking over goaltenders is also one of the lessons from the most famous game in hockey history. After a 2-2 first period in the 1980 Olympic semifinals, Russia benched superstar goaltender Vladislav Tretiak. His backup gave up two goals in the third to lose the game. In Russia, it’s a haunting memory that cost the country a likely gold medal. In the U.S., it’s simply known as the Miracle on Ice.Update: On Thursday, Sullivan said Murray would start in goal in Game 5.Appeared in the June 8, 2017, print edition as 'Penguins Consider A Goalie Switch: Smart or crazy?.'</td>\n",
       "    </tr>\n",
       "    <tr>\n",
       "      <th>1</th>\n",
       "      <td>0</td>\n",
       "      <td>A basket of economic indicators rose in June for the sixth consecutive month.The Conference Board’s leading economic index rose 0.6% to 127.8 last month. Economists surveyed by The Wall Street Journal expected a 0.4% gain.Ataman Ozyildirim, director of business cycles and growth research at the Conference Board, said the sharp rise in the index pointed to continued growth in the U.S. economy and moderate improvement in GDP growth in the second half of the year.“The broad-based gain in the U.S. LEI was led by a large contribution from housing permits, which improved after several months of weakness,” Mr. Ozyildirim said.Comprised of 10 components, including initial claims for jobless benefits, factory orders and the S&amp;P 500’s price change, the index is intended to signal swings in the business cycle and to smooth out some of the volatility of individual indicators.The board’s coincident index—designed to reflect current economic conditions and made up of four data points including nonfarm payrolls—rose 0.2% last month after climbing 0.3% in May.The index of lagging indicators rose 0.2% in June after increasing 0.1% in May.Write to Ali Stratton at ali.stratton@wsj.com</td>\n",
       "    </tr>\n",
       "  </tbody>\n",
       "</table>\n",
       "</div>"
      ],
      "text/plain": [
       "   class  \\\n",
       "0      0   \n",
       "1      0   \n",
       "\n",
       "                                                                                                                                                                                                                                                                                                                                                                                                                                                                                                                                                                                                                                                                                                                                                                                                                                                                                                                                                                                                                                                                                                                                                                                                                                                                                                                                                                                                                                                                                                                                                                                                                                                                                                                                                                                                                                                                                                                                                                                                                                                                                                                                                                                                                                                                                                                                                                                                                                                                                                                                                                                                                                                       text  \n",
       "0   When the Pittsburgh Penguins had a 2-0 series lead in the Stanley Cup Finals, the only question seemed to be when, not if, the team would collect its second straight title. Now, after losing back-to-back games to the No. 8 seed Nashville Predators, the situation has gotten so dire that the Penguins may be considering hockey’s nuclear option: switching goaltenders.After Pittsburgh’s Game 4 loss on Monday, coach Mike Sullivan declined to say if Matt Murray would start between the pipes for Thursday’s Game 5. After the team gave up a combined nine goals in its two losses, some have clamored for veteran Marc-Andre Fleury to step in for the 23-year-old Murray.But such a switch would be unprecedented in recent history: No goalie has started Game 5 or later in the Finals after not having started any of the first four since at least 1990, according to Stats LLC.The only reason the Penguins are in this position is because of their absurd depth at the position. They have one of the top young talents in Murray, who leapfrogged Fleury a year ago to lead the team to the title as a rookie. And Fleury, a two-time All-Star who was in net when the team won in 2009, has already been the team’s savior this postseason, highlighted by a shutout in Game 7 of the Eastern Conference semifinals.This decision—or non-decision—is made even more difficult by the fact that their performances have been so indistinguishable this postseason. Murray, despite his recent struggles, has a .925 save percentage this postseason. That’s one thousandth of a point higher than Fleury’s .924. Murray, meanwhile, is 5-3 as a starter during the playoffs compared with Fleury’s 9-6 record.But to realize why the switch may be rash, Pittsburgh has to look no further than its opponent. Amid doubts about Pekka Rinne’s performance in net to start the series, Nashville coach Peter Laviolette made the smartest move of the series by doing absolutely nothing. Now the series is tied because of that.Not panicking over goaltenders is also one of the lessons from the most famous game in hockey history. After a 2-2 first period in the 1980 Olympic semifinals, Russia benched superstar goaltender Vladislav Tretiak. His backup gave up two goals in the third to lose the game. In Russia, it’s a haunting memory that cost the country a likely gold medal. In the U.S., it’s simply known as the Miracle on Ice.Update: On Thursday, Sullivan said Murray would start in goal in Game 5.Appeared in the June 8, 2017, print edition as 'Penguins Consider A Goalie Switch: Smart or crazy?.'  \n",
       "1                                                                                                                                                                                                                                                                                                                                                                                                                                                                                                                                                                                                                                                                                                                                                                                                                                                                                                                                                                                                                                                                                                                                                                                                                                                                                                                                                                                                                          A basket of economic indicators rose in June for the sixth consecutive month.The Conference Board’s leading economic index rose 0.6% to 127.8 last month. Economists surveyed by The Wall Street Journal expected a 0.4% gain.Ataman Ozyildirim, director of business cycles and growth research at the Conference Board, said the sharp rise in the index pointed to continued growth in the U.S. economy and moderate improvement in GDP growth in the second half of the year.“The broad-based gain in the U.S. LEI was led by a large contribution from housing permits, which improved after several months of weakness,” Mr. Ozyildirim said.Comprised of 10 components, including initial claims for jobless benefits, factory orders and the S&P 500’s price change, the index is intended to signal swings in the business cycle and to smooth out some of the volatility of individual indicators.The board’s coincident index—designed to reflect current economic conditions and made up of four data points including nonfarm payrolls—rose 0.2% last month after climbing 0.3% in May.The index of lagging indicators rose 0.2% in June after increasing 0.1% in May.Write to Ali Stratton at ali.stratton@wsj.com  "
      ]
     },
     "execution_count": 4,
     "metadata": {},
     "output_type": "execute_result"
    }
   ],
   "source": [
    "df.head(2)"
   ]
  },
  {
   "cell_type": "code",
   "execution_count": 5,
   "metadata": {},
   "outputs": [
    {
     "name": "stdout",
     "output_type": "stream",
     "text": [
      "<class 'pandas.core.frame.DataFrame'>\n",
      "RangeIndex: 22000 entries, 0 to 21999\n",
      "Data columns (total 2 columns):\n",
      " #   Column  Non-Null Count  Dtype \n",
      "---  ------  --------------  ----- \n",
      " 0   class   22000 non-null  int64 \n",
      " 1   text    22000 non-null  object\n",
      "dtypes: int64(1), object(1)\n",
      "memory usage: 343.9+ KB\n"
     ]
    }
   ],
   "source": [
    "df.info()"
   ]
  },
  {
   "cell_type": "code",
   "execution_count": 6,
   "metadata": {
    "scrolled": true
   },
   "outputs": [
    {
     "data": {
      "text/plain": [
       "2    7000\n",
       "3    5000\n",
       "1    5000\n",
       "0    5000\n",
       "Name: class, dtype: int64"
      ]
     },
     "execution_count": 6,
     "metadata": {},
     "output_type": "execute_result"
    }
   ],
   "source": [
    "df['class'].value_counts() # imbalanced dataset"
   ]
  },
  {
   "cell_type": "code",
   "execution_count": 7,
   "metadata": {},
   "outputs": [],
   "source": [
    "# Remove spaces from start/end of paragraphs\n",
    "df['text'] = df['text'].apply(lambda x: x.strip())"
   ]
  },
  {
   "cell_type": "code",
   "execution_count": 8,
   "metadata": {},
   "outputs": [
    {
     "data": {
      "text/html": [
       "<div>\n",
       "<style scoped>\n",
       "    .dataframe tbody tr th:only-of-type {\n",
       "        vertical-align: middle;\n",
       "    }\n",
       "\n",
       "    .dataframe tbody tr th {\n",
       "        vertical-align: top;\n",
       "    }\n",
       "\n",
       "    .dataframe thead th {\n",
       "        text-align: right;\n",
       "    }\n",
       "</style>\n",
       "<table border=\"1\" class=\"dataframe\">\n",
       "  <thead>\n",
       "    <tr style=\"text-align: right;\">\n",
       "      <th></th>\n",
       "      <th>class</th>\n",
       "      <th>text</th>\n",
       "    </tr>\n",
       "  </thead>\n",
       "  <tbody>\n",
       "    <tr>\n",
       "      <th>9500</th>\n",
       "      <td>2</td>\n",
       "      <td></td>\n",
       "    </tr>\n",
       "    <tr>\n",
       "      <th>10131</th>\n",
       "      <td>2</td>\n",
       "      <td></td>\n",
       "    </tr>\n",
       "    <tr>\n",
       "      <th>10164</th>\n",
       "      <td>2</td>\n",
       "      <td></td>\n",
       "    </tr>\n",
       "    <tr>\n",
       "      <th>10230</th>\n",
       "      <td>2</td>\n",
       "      <td></td>\n",
       "    </tr>\n",
       "    <tr>\n",
       "      <th>11289</th>\n",
       "      <td>2</td>\n",
       "      <td></td>\n",
       "    </tr>\n",
       "    <tr>\n",
       "      <th>11313</th>\n",
       "      <td>2</td>\n",
       "      <td></td>\n",
       "    </tr>\n",
       "    <tr>\n",
       "      <th>14546</th>\n",
       "      <td>2</td>\n",
       "      <td></td>\n",
       "    </tr>\n",
       "    <tr>\n",
       "      <th>14549</th>\n",
       "      <td>2</td>\n",
       "      <td></td>\n",
       "    </tr>\n",
       "    <tr>\n",
       "      <th>14577</th>\n",
       "      <td>2</td>\n",
       "      <td></td>\n",
       "    </tr>\n",
       "    <tr>\n",
       "      <th>15417</th>\n",
       "      <td>2</td>\n",
       "      <td></td>\n",
       "    </tr>\n",
       "    <tr>\n",
       "      <th>15886</th>\n",
       "      <td>2</td>\n",
       "      <td></td>\n",
       "    </tr>\n",
       "    <tr>\n",
       "      <th>17275</th>\n",
       "      <td>2</td>\n",
       "      <td></td>\n",
       "    </tr>\n",
       "    <tr>\n",
       "      <th>18844</th>\n",
       "      <td>2</td>\n",
       "      <td></td>\n",
       "    </tr>\n",
       "    <tr>\n",
       "      <th>20149</th>\n",
       "      <td>2</td>\n",
       "      <td></td>\n",
       "    </tr>\n",
       "    <tr>\n",
       "      <th>21323</th>\n",
       "      <td>2</td>\n",
       "      <td></td>\n",
       "    </tr>\n",
       "  </tbody>\n",
       "</table>\n",
       "</div>"
      ],
      "text/plain": [
       "       class text\n",
       "9500       2     \n",
       "10131      2     \n",
       "10164      2     \n",
       "10230      2     \n",
       "11289      2     \n",
       "11313      2     \n",
       "14546      2     \n",
       "14549      2     \n",
       "14577      2     \n",
       "15417      2     \n",
       "15886      2     \n",
       "17275      2     \n",
       "18844      2     \n",
       "20149      2     \n",
       "21323      2     "
      ]
     },
     "execution_count": 8,
     "metadata": {},
     "output_type": "execute_result"
    }
   ],
   "source": [
    "# Find empty text rows\n",
    "df.loc[df['text']=='']"
   ]
  },
  {
   "cell_type": "code",
   "execution_count": 9,
   "metadata": {},
   "outputs": [],
   "source": [
    "# Drop empty text rows\n",
    "df.drop(df.loc[df['text']==''].index, inplace=True)"
   ]
  },
  {
   "cell_type": "code",
   "execution_count": 10,
   "metadata": {},
   "outputs": [
    {
     "data": {
      "text/html": [
       "<div>\n",
       "<style scoped>\n",
       "    .dataframe tbody tr th:only-of-type {\n",
       "        vertical-align: middle;\n",
       "    }\n",
       "\n",
       "    .dataframe tbody tr th {\n",
       "        vertical-align: top;\n",
       "    }\n",
       "\n",
       "    .dataframe thead th {\n",
       "        text-align: right;\n",
       "    }\n",
       "</style>\n",
       "<table border=\"1\" class=\"dataframe\">\n",
       "  <thead>\n",
       "    <tr style=\"text-align: right;\">\n",
       "      <th></th>\n",
       "      <th>class</th>\n",
       "      <th>text</th>\n",
       "    </tr>\n",
       "  </thead>\n",
       "  <tbody>\n",
       "    <tr>\n",
       "      <th>95</th>\n",
       "      <td>2</td>\n",
       "      <td>A court in the Caribbean island of St. Maarten has ordered Venezuelan state-run oil company PDVSA to cooperate in the sale of 500,000 barrels of crude oil in its dispute with units of Russian shipping firm Sovcomflot, according to a copy of the decision seen by Reuters on Tuesday. In March, the same court ordered the roughly $20 million in Venezuelan oil to be held until state-run Sovcomflot's claim for $30 million in unpaid shipping fees is decided in a pending action by a British admiralty court. PDVSA rejects the claim.  Proceeds from the oil sale must be deposited into an escrow account at a Dutch or Antillian bank until the two sides reach a final agreement, the court said.  The crude has been stored at a rented facility on the neighboring island of St. Eustatius, but Sovcomflot requested the oil be sold to a third party, arguing there was no guarantee that the crude would be insured while at the terminal.  The Court of First Instance condemns PDVSA to cooperate on sale by ship owners of the cargo oil... to the best possible terms, including as high a price as possible,  said the order dated July 7 and seen this week. PDVSA did not immediately respond to a request for comment.  The court action suggests even political allies of Venezuela such as Russia are losing patience with PDVSA's payment delays. The Venezuelan company's obsolete tankers are struggling to export oil and supply fuel to its domestic market. The court absolved PDVSA of trial costs but said it must pay a penalty of $500,000 per day up to a maximum of $5 million if it fails to comply with the ruling.  It was unclear when the penalty would begin. A PDVSA source said the company would auction the oil as soon as possible.  PDVSA in October sent the cargo on tanker NS Columbus to St. Eustatius, planning to sell the crude from there. But the owner of the tanker, a unit of Russian conglomerate Sovcomflot, asked a Caribbean court to seize the oil in hopes of collecting partial payment. Five months after crossing the Caribbean, the NS Columbus discharged the crude at the Statia terminal in St. Eustatius, owned by U.S. NuStar Energy, where PDVSA rents storage tanks, under a temporary decision by the St. Maarten court. Reporting by John van Kerkhof and Marianna Parraga; editing by Gary McWilliams and Cynthia Osterman</td>\n",
       "    </tr>\n",
       "    <tr>\n",
       "      <th>103</th>\n",
       "      <td>2</td>\n",
       "      <td>A Canadian nurse who used insulin to kill eight elderly patients in long-term care facilities has been sentenced to life in prison with no chance of parole for 25 years, the Canadian Broadcasting Corp (CBC) reported on Monday. Elizabeth Wettlaufer pleaded guilty this month to killing five women and three men in the Ontario towns of Woodstock and London between 2007 and 2014. The dead ranged in age from 75 to 96. Wettlaufer then admitted in court in Woodstock, about 140 km (87 miles) west of Toronto, that she fatally injected the victims with insulin for no medical reasons. CBC reported that she apologized in court to her victims' families on Monday, although her motive remains unclear.  The Ontario Ministry of the Attorney General did not immediately respond to a request for comment. Homicide cases with multiple victims are uncommon in Canada. The Wettlaufer case is the largest in Ontario province since 2006, when five men were charged with murdering eight members of a biker gang. They were convicted and sentenced to life in prison. Reporting by Ethan Lou in Calgary, Alberta; Editing by Tom Brown</td>\n",
       "    </tr>\n",
       "    <tr>\n",
       "      <th>175</th>\n",
       "      <td>1</td>\n",
       "      <td>Losses from cyber crimes rose 24 percent in 2016 to over $1.33 billion, according to a report by the Federal Bureau of Investigation's Internet Crime Complaint Center (IC3). The center, which was set up in 2000 to receive complaints of internet crime, received 300,000 complaints during the year from hacking victims. Businesses lost $360 million to cyber criminals, who tricked them into wiring money using fraudulent emails that appeared to be from corporate executives and suppliers, according to the report released on Wednesday. IC3 said it received 2,673 complaints last year from victims of ransomware, with losses totaling over $2.4 million. In May, the WannaCry ransomware attack infected 300,000 computers in more than 150 countries, disrupting factories, hospitals, shops and schools. Ransomware is a form of malware that encrypts data on infected machines, then typically asks users to pay ransoms in hard-to-trace digital currencies to get an electronic key so they can retrieve their data.  Reporting by Laharee Chatterjee in Bengaluru; Editing by Arun Koyyur</td>\n",
       "    </tr>\n",
       "    <tr>\n",
       "      <th>231</th>\n",
       "      <td>2</td>\n",
       "      <td>Deutsche Bank (DBKGn.DE) is set to lose as much as $60 million over a trade linked to U.S. inflation, Bloomberg reported, citing people familiar with the matter. The trade used derivative products tied to U.S. inflation and Germany's largest bank is examining whether its traders breached risk limits on the deal, Bloomberg also reported. Deutsche Bank declined to comment when contacted by Reuters. Deutsche Bank settled a lawsuit for $170 million earlier this month that claimed that the bank had conspired with other banks to manipulate the benchmark European Interbank Offered Rate and related derivatives. Reporting by Parikshit Mishra in Bengaluru, editing by David Evans</td>\n",
       "    </tr>\n",
       "    <tr>\n",
       "      <th>262</th>\n",
       "      <td>2</td>\n",
       "      <td>Reuters on Friday lost an appeal against a court ruling that stopped the news agency from publishing a story about British hedge fund firm Brevan Howard Asset Management.  Three Court of Appeal judges said that a lower court was correct to rule in March that the story would breach Brevan Howard's right to confidentiality and was not of sufficient public interest to justify its publication. Reuters had argued that the March ruling by a High Court judge had given  insufficient weight  to matters of public interest and had failed to take into account the  limited  scope of the confidential information it wanted to publish.       Despite that raft of criticisms of the Judge's judgment, we are clear that the appeal should be dismissed,  Court of Appeal judge Terence Etherton wrote. A spokesman for Reuters said the agency was deeply disappointed.   We continue to believe that the public interest in publication of this information outweighs the confidentiality concerns raised here,  he said.  A spokesman for Brevan Howard said the firm  welcomes the decision of the court that supports the importance of its ability to communicate with its investors in a candid and responsible manner .  Brevan Howard, one of Europe's biggest hedge fund managers, said the Reuters story contained highly sensitive information it had sent to 36 potential investors electronically. Reuters obtained information for the story from confidential sources but when it contacted the hedge fund to ask questions before publication, Brevan Howard sought an injunction on the grounds of breach of confidence. Under Britain's legal system, individuals and companies can file for privacy or confidentiality injunctions to try to stop the media publishing information that they say is confidential. Reuters argued in court that public interest outweighed confidentiality concerns because hedge funds invest on behalf of institutional investors including pension funds, which affect the finances of millions of people. However the appeal court said the judge in March had balanced the public interest case against Brevan Howard's right to confidentiality and had made no error of law in his decision. Reuters is part of the Thomson Reuters media and information group. Reporting by Rachel Armstrong; Editing by Nick Tattersall</td>\n",
       "    </tr>\n",
       "    <tr>\n",
       "      <th>...</th>\n",
       "      <td>...</td>\n",
       "      <td>...</td>\n",
       "    </tr>\n",
       "    <tr>\n",
       "      <th>21573</th>\n",
       "      <td>3</td>\n",
       "      <td>The Treasury Department's Office of Foreign Assets Control (OFAC) recently settled claims for embargo travel violations to Cuba by two Miami airline charter companies and a national magazine.</td>\n",
       "    </tr>\n",
       "    <tr>\n",
       "      <th>21699</th>\n",
       "      <td>2</td>\n",
       "      <td>Clerk of the Court</td>\n",
       "    </tr>\n",
       "    <tr>\n",
       "      <th>21748</th>\n",
       "      <td>2</td>\n",
       "      <td>FOR THE COURT STEVEN LUCAS Clerk of the Court</td>\n",
       "    </tr>\n",
       "    <tr>\n",
       "      <th>21784</th>\n",
       "      <td>2</td>\n",
       "      <td>LEAH M. CALAHAN Deputy Clerk of the Court</td>\n",
       "    </tr>\n",
       "    <tr>\n",
       "      <th>21850</th>\n",
       "      <td>3</td>\n",
       "      <td>We welcome the peace initiatives developing in parts of Libya, particularly in the West, including local-level ceasefires, prisoner exchanges, and the return of internally displaced persons. We recognize that the Libyan people want peace and stability. We welcome the recent round of talks of the UN political dialogue in Skhirat, Morocco. We reiterate our full support to the UN SRSG Bernardino Léon. We urge all Libyan parties to sign in the coming days the political agreement presented by the UN. We consider this document a thoughtful, well-balanced basis for agreement, that meets the urgent expectations of Libyan people and secures the unity of Libya. We reiterate that there is no military solution to this crisis and we underline that the economic and humanitarian situation is worsening every day. We stand ready to support the implementation of this agreement in order to help ensure that a Government of National Accord and all the new institutions function effectively. Governments of France, Germany, Italy, Spain, the United Kingdom, and the United States, express deep concern about ongoing violence within Libya, and expansion of terrorism in Libya. These are important developments, and a powerful example of the determination of the Libyan people to find peaceful solutions to the ongoing insecurity. Alongside the UN process, these initiatives need the support of all Libyans throughout that country. We strongly condemn all attempts to undermine UN process or local peace initiatives, in particular through the threat of violence. We call on all Libyan decision makers to show in this crucial moment responsibility, leadership and courage. The international community stands ready to provide significant humanitarian, economic and security assistance to a united Libya as soon as the new government is agreed. Equally, the international community stands ready to hold accountable through sanctions those who threaten Libya’s peace, stability and security. Follow the Foreign Office on twitter @foreignoffice Follow the Foreign Office on facebook and Google+ The Governments of France, Germany, Italy, Spain, the United Kingdom, and the United States, express our deep concern about the ongoing violence within Libya, and the expansion of terrorism in Libya.</td>\n",
       "    </tr>\n",
       "  </tbody>\n",
       "</table>\n",
       "<p>1299 rows × 2 columns</p>\n",
       "</div>"
      ],
      "text/plain": [
       "       class  \\\n",
       "95         2   \n",
       "103        2   \n",
       "175        1   \n",
       "231        2   \n",
       "262        2   \n",
       "...      ...   \n",
       "21573      3   \n",
       "21699      2   \n",
       "21748      2   \n",
       "21784      2   \n",
       "21850      3   \n",
       "\n",
       "                                                                                                                                                                                                                                                                                                                                                                                                                                                                                                                                                                                                                                                                                                                                                                                                                                                                                                                                                                                                                                                                                                                                                                                                                                                                                                                                                                                                                                                                                                                                                                                                                                                                                                                                                                                                                                                                                                                                                                                                                                                                                                                                                                                                                                                                                                                                                                                                                 text  \n",
       "95     A court in the Caribbean island of St. Maarten has ordered Venezuelan state-run oil company PDVSA to cooperate in the sale of 500,000 barrels of crude oil in its dispute with units of Russian shipping firm Sovcomflot, according to a copy of the decision seen by Reuters on Tuesday. In March, the same court ordered the roughly $20 million in Venezuelan oil to be held until state-run Sovcomflot's claim for $30 million in unpaid shipping fees is decided in a pending action by a British admiralty court. PDVSA rejects the claim.  Proceeds from the oil sale must be deposited into an escrow account at a Dutch or Antillian bank until the two sides reach a final agreement, the court said.  The crude has been stored at a rented facility on the neighboring island of St. Eustatius, but Sovcomflot requested the oil be sold to a third party, arguing there was no guarantee that the crude would be insured while at the terminal.  The Court of First Instance condemns PDVSA to cooperate on sale by ship owners of the cargo oil... to the best possible terms, including as high a price as possible,  said the order dated July 7 and seen this week. PDVSA did not immediately respond to a request for comment.  The court action suggests even political allies of Venezuela such as Russia are losing patience with PDVSA's payment delays. The Venezuelan company's obsolete tankers are struggling to export oil and supply fuel to its domestic market. The court absolved PDVSA of trial costs but said it must pay a penalty of $500,000 per day up to a maximum of $5 million if it fails to comply with the ruling.  It was unclear when the penalty would begin. A PDVSA source said the company would auction the oil as soon as possible.  PDVSA in October sent the cargo on tanker NS Columbus to St. Eustatius, planning to sell the crude from there. But the owner of the tanker, a unit of Russian conglomerate Sovcomflot, asked a Caribbean court to seize the oil in hopes of collecting partial payment. Five months after crossing the Caribbean, the NS Columbus discharged the crude at the Statia terminal in St. Eustatius, owned by U.S. NuStar Energy, where PDVSA rents storage tanks, under a temporary decision by the St. Maarten court. Reporting by John van Kerkhof and Marianna Parraga; editing by Gary McWilliams and Cynthia Osterman  \n",
       "103                                                                                                                                                                                                                                                                                                                                                                                                                                                                                                                                                                                                                                                                                                                                                                                                                                                                                                                                                                                                                                                                                                                                                                                                                                                         A Canadian nurse who used insulin to kill eight elderly patients in long-term care facilities has been sentenced to life in prison with no chance of parole for 25 years, the Canadian Broadcasting Corp (CBC) reported on Monday. Elizabeth Wettlaufer pleaded guilty this month to killing five women and three men in the Ontario towns of Woodstock and London between 2007 and 2014. The dead ranged in age from 75 to 96. Wettlaufer then admitted in court in Woodstock, about 140 km (87 miles) west of Toronto, that she fatally injected the victims with insulin for no medical reasons. CBC reported that she apologized in court to her victims' families on Monday, although her motive remains unclear.  The Ontario Ministry of the Attorney General did not immediately respond to a request for comment. Homicide cases with multiple victims are uncommon in Canada. The Wettlaufer case is the largest in Ontario province since 2006, when five men were charged with murdering eight members of a biker gang. They were convicted and sentenced to life in prison. Reporting by Ethan Lou in Calgary, Alberta; Editing by Tom Brown  \n",
       "175                                                                                                                                                                                                                                                                                                                                                                                                                                                                                                                                                                                                                                                                                                                                                                                                                                                                                                                                                                                                                                                                                                                                                                                                                                                                                                 Losses from cyber crimes rose 24 percent in 2016 to over $1.33 billion, according to a report by the Federal Bureau of Investigation's Internet Crime Complaint Center (IC3). The center, which was set up in 2000 to receive complaints of internet crime, received 300,000 complaints during the year from hacking victims. Businesses lost $360 million to cyber criminals, who tricked them into wiring money using fraudulent emails that appeared to be from corporate executives and suppliers, according to the report released on Wednesday. IC3 said it received 2,673 complaints last year from victims of ransomware, with losses totaling over $2.4 million. In May, the WannaCry ransomware attack infected 300,000 computers in more than 150 countries, disrupting factories, hospitals, shops and schools. Ransomware is a form of malware that encrypts data on infected machines, then typically asks users to pay ransoms in hard-to-trace digital currencies to get an electronic key so they can retrieve their data.  Reporting by Laharee Chatterjee in Bengaluru; Editing by Arun Koyyur  \n",
       "231                                                                                                                                                                                                                                                                                                                                                                                                                                                                                                                                                                                                                                                                                                                                                                                                                                                                                                                                                                                                                                                                                                                                                                                                                                                                                                                                                                                                                                                                                                                                                                                                                                                                                                             Deutsche Bank (DBKGn.DE) is set to lose as much as $60 million over a trade linked to U.S. inflation, Bloomberg reported, citing people familiar with the matter. The trade used derivative products tied to U.S. inflation and Germany's largest bank is examining whether its traders breached risk limits on the deal, Bloomberg also reported. Deutsche Bank declined to comment when contacted by Reuters. Deutsche Bank settled a lawsuit for $170 million earlier this month that claimed that the bank had conspired with other banks to manipulate the benchmark European Interbank Offered Rate and related derivatives. Reporting by Parikshit Mishra in Bengaluru, editing by David Evans  \n",
       "262                  Reuters on Friday lost an appeal against a court ruling that stopped the news agency from publishing a story about British hedge fund firm Brevan Howard Asset Management.  Three Court of Appeal judges said that a lower court was correct to rule in March that the story would breach Brevan Howard's right to confidentiality and was not of sufficient public interest to justify its publication. Reuters had argued that the March ruling by a High Court judge had given  insufficient weight  to matters of public interest and had failed to take into account the  limited  scope of the confidential information it wanted to publish.       Despite that raft of criticisms of the Judge's judgment, we are clear that the appeal should be dismissed,  Court of Appeal judge Terence Etherton wrote. A spokesman for Reuters said the agency was deeply disappointed.   We continue to believe that the public interest in publication of this information outweighs the confidentiality concerns raised here,  he said.  A spokesman for Brevan Howard said the firm  welcomes the decision of the court that supports the importance of its ability to communicate with its investors in a candid and responsible manner .  Brevan Howard, one of Europe's biggest hedge fund managers, said the Reuters story contained highly sensitive information it had sent to 36 potential investors electronically. Reuters obtained information for the story from confidential sources but when it contacted the hedge fund to ask questions before publication, Brevan Howard sought an injunction on the grounds of breach of confidence. Under Britain's legal system, individuals and companies can file for privacy or confidentiality injunctions to try to stop the media publishing information that they say is confidential. Reuters argued in court that public interest outweighed confidentiality concerns because hedge funds invest on behalf of institutional investors including pension funds, which affect the finances of millions of people. However the appeal court said the judge in March had balanced the public interest case against Brevan Howard's right to confidentiality and had made no error of law in his decision. Reuters is part of the Thomson Reuters media and information group. Reporting by Rachel Armstrong; Editing by Nick Tattersall  \n",
       "...                                                                                                                                                                                                                                                                                                                                                                                                                                                                                                                                                                                                                                                                                                                                                                                                                                                                                                                                                                                                                                                                                                                                                                                                                                                                                                                                                                                                                                                                                                                                                                                                                                                                                                                                                                                                                                                                                                                                                                                                                                                                                                                                                                                                                                                                                                                                                                                                               ...  \n",
       "21573                                                                                                                                                                                                                                                                                                                                                                                                                                                                                                                                                                                                                                                                                                                                                                                                                                                                                                                                                                                                                                                                                                                                                                                                                                                                                                                                                                                                                                                                                                                                                                                                                                                                                                                                                                                                                                                                                                                                                                                                                                                                                                                                                                                                                 The Treasury Department's Office of Foreign Assets Control (OFAC) recently settled claims for embargo travel violations to Cuba by two Miami airline charter companies and a national magazine.  \n",
       "21699                                                                                                                                                                                                                                                                                                                                                                                                                                                                                                                                                                                                                                                                                                                                                                                                                                                                                                                                                                                                                                                                                                                                                                                                                                                                                                                                                                                                                                                                                                                                                                                                                                                                                                                                                                                                                                                                                                                                                                                                                                                                                                                                                                                                                                                                                                                                                                                              Clerk of the Court  \n",
       "21748                                                                                                                                                                                                                                                                                                                                                                                                                                                                                                                                                                                                                                                                                                                                                                                                                                                                                                                                                                                                                                                                                                                                                                                                                                                                                                                                                                                                                                                                                                                                                                                                                                                                                                                                                                                                                                                                                                                                                                                                                                                                                                                                                                                                                                                                                                                                                                   FOR THE COURT STEVEN LUCAS Clerk of the Court  \n",
       "21784                                                                                                                                                                                                                                                                                                                                                                                                                                                                                                                                                                                                                                                                                                                                                                                                                                                                                                                                                                                                                                                                                                                                                                                                                                                                                                                                                                                                                                                                                                                                                                                                                                                                                                                                                                                                                                                                                                                                                                                                                                                                                                                                                                                                                                                                                                                                                                       LEAH M. CALAHAN Deputy Clerk of the Court  \n",
       "21850                                         We welcome the peace initiatives developing in parts of Libya, particularly in the West, including local-level ceasefires, prisoner exchanges, and the return of internally displaced persons. We recognize that the Libyan people want peace and stability. We welcome the recent round of talks of the UN political dialogue in Skhirat, Morocco. We reiterate our full support to the UN SRSG Bernardino Léon. We urge all Libyan parties to sign in the coming days the political agreement presented by the UN. We consider this document a thoughtful, well-balanced basis for agreement, that meets the urgent expectations of Libyan people and secures the unity of Libya. We reiterate that there is no military solution to this crisis and we underline that the economic and humanitarian situation is worsening every day. We stand ready to support the implementation of this agreement in order to help ensure that a Government of National Accord and all the new institutions function effectively. Governments of France, Germany, Italy, Spain, the United Kingdom, and the United States, express deep concern about ongoing violence within Libya, and expansion of terrorism in Libya. These are important developments, and a powerful example of the determination of the Libyan people to find peaceful solutions to the ongoing insecurity. Alongside the UN process, these initiatives need the support of all Libyans throughout that country. We strongly condemn all attempts to undermine UN process or local peace initiatives, in particular through the threat of violence. We call on all Libyan decision makers to show in this crucial moment responsibility, leadership and courage. The international community stands ready to provide significant humanitarian, economic and security assistance to a united Libya as soon as the new government is agreed. Equally, the international community stands ready to hold accountable through sanctions those who threaten Libya’s peace, stability and security. Follow the Foreign Office on twitter @foreignoffice Follow the Foreign Office on facebook and Google+ The Governments of France, Germany, Italy, Spain, the United Kingdom, and the United States, express our deep concern about the ongoing violence within Libya, and the expansion of terrorism in Libya.  \n",
       "\n",
       "[1299 rows x 2 columns]"
      ]
     },
     "execution_count": 10,
     "metadata": {},
     "output_type": "execute_result"
    }
   ],
   "source": [
    "# Find duplicates\n",
    "duplicates_df = df[df.duplicated()] # 1299 rows\n",
    "duplicates_df"
   ]
  },
  {
   "cell_type": "code",
   "execution_count": 11,
   "metadata": {
    "scrolled": true
   },
   "outputs": [
    {
     "data": {
      "text/html": [
       "<div>\n",
       "<style scoped>\n",
       "    .dataframe tbody tr th:only-of-type {\n",
       "        vertical-align: middle;\n",
       "    }\n",
       "\n",
       "    .dataframe tbody tr th {\n",
       "        vertical-align: top;\n",
       "    }\n",
       "\n",
       "    .dataframe thead th {\n",
       "        text-align: right;\n",
       "    }\n",
       "</style>\n",
       "<table border=\"1\" class=\"dataframe\">\n",
       "  <thead>\n",
       "    <tr style=\"text-align: right;\">\n",
       "      <th></th>\n",
       "      <th>class</th>\n",
       "      <th>text</th>\n",
       "    </tr>\n",
       "  </thead>\n",
       "  <tbody>\n",
       "    <tr>\n",
       "      <th>20277</th>\n",
       "      <td>1</td>\n",
       "      <td>(FOX) (S.D.N.Y. filed July 28, 2004). The Securities and Exchange Commission (\"Commission\") toda...</td>\n",
       "    </tr>\n",
       "    <tr>\n",
       "      <th>4360</th>\n",
       "      <td>1</td>\n",
       "      <td>* Avanti markets data incident notification * Avanti markets says suffered a data breach through...</td>\n",
       "    </tr>\n",
       "    <tr>\n",
       "      <th>5152</th>\n",
       "      <td>2</td>\n",
       "      <td>* Deutsche Bank said to face possible $60 million derivative loss- Bloomberg,citing sources Sour...</td>\n",
       "    </tr>\n",
       "    <tr>\n",
       "      <th>1581</th>\n",
       "      <td>2</td>\n",
       "      <td>* Uber faces fresh probe from U.S. FTC over its privacy practices - Recode, citing sources Sourc...</td>\n",
       "    </tr>\n",
       "    <tr>\n",
       "      <th>19044</th>\n",
       "      <td>2</td>\n",
       "      <td>-2-</td>\n",
       "    </tr>\n",
       "    <tr>\n",
       "      <th>19649</th>\n",
       "      <td>3</td>\n",
       "      <td>2006-9-28-15-15-5-28119   The U.S. Department of the Treasury's Office of Foreign Assets Control...</td>\n",
       "    </tr>\n",
       "    <tr>\n",
       "      <th>20375</th>\n",
       "      <td>3</td>\n",
       "      <td>2007-2-16-12-25-42-15654   The U.S. Department of the Treasury designated three Iranian companie...</td>\n",
       "    </tr>\n",
       "    <tr>\n",
       "      <th>4420</th>\n",
       "      <td>2</td>\n",
       "      <td>A 24-year-old YouTube singer with a teen fan base has been charged with using social media to so...</td>\n",
       "    </tr>\n",
       "    <tr>\n",
       "      <th>2235</th>\n",
       "      <td>2</td>\n",
       "      <td>A 24-year-old YouTube singer with a teen fan base has been charged with using social media to so...</td>\n",
       "    </tr>\n",
       "    <tr>\n",
       "      <th>2782</th>\n",
       "      <td>2</td>\n",
       "      <td>A 24-year-old YouTube singer with a teen fan base has been charged with using social media to so...</td>\n",
       "    </tr>\n",
       "    <tr>\n",
       "      <th>5009</th>\n",
       "      <td>1</td>\n",
       "      <td>A Brazilian congressional committee on Thursday voted against sending a corruption charge agains...</td>\n",
       "    </tr>\n",
       "    <tr>\n",
       "      <th>2354</th>\n",
       "      <td>2</td>\n",
       "      <td>A Brazilian court has cleared Banco Bradesco SA Chief Executive Officer Luiz Carlos Trabuco of t...</td>\n",
       "    </tr>\n",
       "    <tr>\n",
       "      <th>5427</th>\n",
       "      <td>2</td>\n",
       "      <td>A Brazilian court has cleared Banco Bradesco SA Chief Executive Officer Luiz Carlos Trabuco of t...</td>\n",
       "    </tr>\n",
       "    <tr>\n",
       "      <th>1353</th>\n",
       "      <td>2</td>\n",
       "      <td>A Brazilian court has cleared Banco Bradesco SA Chief Executive Officer Luiz Carlos Trabuco of t...</td>\n",
       "    </tr>\n",
       "    <tr>\n",
       "      <th>1912</th>\n",
       "      <td>2</td>\n",
       "      <td>A Brazilian judge has blocked JBS SA's (JBSS3.SA) planned sale of a South American unit while th...</td>\n",
       "    </tr>\n",
       "    <tr>\n",
       "      <th>3213</th>\n",
       "      <td>1</td>\n",
       "      <td>A Brazilian presidential decree raising fines on banks and listed companies involved in illicit ...</td>\n",
       "    </tr>\n",
       "    <tr>\n",
       "      <th>3510</th>\n",
       "      <td>2</td>\n",
       "      <td>A British teenager who planned to attack an Elton John concert in London on the fifteenth annive...</td>\n",
       "    </tr>\n",
       "    <tr>\n",
       "      <th>3167</th>\n",
       "      <td>2</td>\n",
       "      <td>A British teenager who planned to attack an Elton John concert in London on the fifteenth annive...</td>\n",
       "    </tr>\n",
       "    <tr>\n",
       "      <th>3704</th>\n",
       "      <td>1</td>\n",
       "      <td>A Canadian appeals court judge has refused a bail request by Karim Baratov, whom U.S. prosecutor...</td>\n",
       "    </tr>\n",
       "    <tr>\n",
       "      <th>1866</th>\n",
       "      <td>1</td>\n",
       "      <td>A Canadian appeals court justice said on Monday that he would review a bail request by Karim Bar...</td>\n",
       "    </tr>\n",
       "  </tbody>\n",
       "</table>\n",
       "</div>"
      ],
      "text/plain": [
       "       class  \\\n",
       "20277      1   \n",
       "4360       1   \n",
       "5152       2   \n",
       "1581       2   \n",
       "19044      2   \n",
       "19649      3   \n",
       "20375      3   \n",
       "4420       2   \n",
       "2235       2   \n",
       "2782       2   \n",
       "5009       1   \n",
       "2354       2   \n",
       "5427       2   \n",
       "1353       2   \n",
       "1912       2   \n",
       "3213       1   \n",
       "3510       2   \n",
       "3167       2   \n",
       "3704       1   \n",
       "1866       1   \n",
       "\n",
       "                                                                                                      text  \n",
       "20277  (FOX) (S.D.N.Y. filed July 28, 2004). The Securities and Exchange Commission (\"Commission\") toda...  \n",
       "4360   * Avanti markets data incident notification * Avanti markets says suffered a data breach through...  \n",
       "5152   * Deutsche Bank said to face possible $60 million derivative loss- Bloomberg,citing sources Sour...  \n",
       "1581   * Uber faces fresh probe from U.S. FTC over its privacy practices - Recode, citing sources Sourc...  \n",
       "19044                                                                                                  -2-  \n",
       "19649  2006-9-28-15-15-5-28119   The U.S. Department of the Treasury's Office of Foreign Assets Control...  \n",
       "20375  2007-2-16-12-25-42-15654   The U.S. Department of the Treasury designated three Iranian companie...  \n",
       "4420   A 24-year-old YouTube singer with a teen fan base has been charged with using social media to so...  \n",
       "2235   A 24-year-old YouTube singer with a teen fan base has been charged with using social media to so...  \n",
       "2782   A 24-year-old YouTube singer with a teen fan base has been charged with using social media to so...  \n",
       "5009   A Brazilian congressional committee on Thursday voted against sending a corruption charge agains...  \n",
       "2354   A Brazilian court has cleared Banco Bradesco SA Chief Executive Officer Luiz Carlos Trabuco of t...  \n",
       "5427   A Brazilian court has cleared Banco Bradesco SA Chief Executive Officer Luiz Carlos Trabuco of t...  \n",
       "1353   A Brazilian court has cleared Banco Bradesco SA Chief Executive Officer Luiz Carlos Trabuco of t...  \n",
       "1912   A Brazilian judge has blocked JBS SA's (JBSS3.SA) planned sale of a South American unit while th...  \n",
       "3213   A Brazilian presidential decree raising fines on banks and listed companies involved in illicit ...  \n",
       "3510   A British teenager who planned to attack an Elton John concert in London on the fifteenth annive...  \n",
       "3167   A British teenager who planned to attack an Elton John concert in London on the fifteenth annive...  \n",
       "3704   A Canadian appeals court judge has refused a bail request by Karim Baratov, whom U.S. prosecutor...  \n",
       "1866   A Canadian appeals court justice said on Monday that he would review a bail request by Karim Bar...  "
      ]
     },
     "execution_count": 11,
     "metadata": {},
     "output_type": "execute_result"
    }
   ],
   "source": [
    "# Sorting duplicate raws\n",
    "pd.set_option('display.max_colwidth', 100) \n",
    "\n",
    "duplicates_df.sort_values('text')[:20] # more than one duplicate"
   ]
  },
  {
   "cell_type": "code",
   "execution_count": 12,
   "metadata": {},
   "outputs": [],
   "source": [
    "# Drop all duplicate rows\n",
    "df.drop_duplicates(inplace=True)"
   ]
  },
  {
   "cell_type": "code",
   "execution_count": 13,
   "metadata": {
    "scrolled": true
   },
   "outputs": [
    {
     "data": {
      "text/html": [
       "<div>\n",
       "<style scoped>\n",
       "    .dataframe tbody tr th:only-of-type {\n",
       "        vertical-align: middle;\n",
       "    }\n",
       "\n",
       "    .dataframe tbody tr th {\n",
       "        vertical-align: top;\n",
       "    }\n",
       "\n",
       "    .dataframe thead th {\n",
       "        text-align: right;\n",
       "    }\n",
       "</style>\n",
       "<table border=\"1\" class=\"dataframe\">\n",
       "  <thead>\n",
       "    <tr style=\"text-align: right;\">\n",
       "      <th></th>\n",
       "      <th>class</th>\n",
       "      <th>text</th>\n",
       "    </tr>\n",
       "  </thead>\n",
       "  <tbody>\n",
       "    <tr>\n",
       "      <th>0</th>\n",
       "      <td>0</td>\n",
       "      <td>When the Pittsburgh Penguins had a 2-0 series lead in the Stanley Cup Finals, the only question ...</td>\n",
       "    </tr>\n",
       "    <tr>\n",
       "      <th>1</th>\n",
       "      <td>0</td>\n",
       "      <td>A basket of economic indicators rose in June for the sixth consecutive month.The Conference Boar...</td>\n",
       "    </tr>\n",
       "    <tr>\n",
       "      <th>2</th>\n",
       "      <td>2</td>\n",
       "      <td>A federal judge halted late on Monday the deportation of all Iraqi nationals detained during imm...</td>\n",
       "    </tr>\n",
       "    <tr>\n",
       "      <th>3</th>\n",
       "      <td>0</td>\n",
       "      <td>Alexander Klimburg thinks we are not nearly as worried as we should be about internet-borne mayh...</td>\n",
       "    </tr>\n",
       "    <tr>\n",
       "      <th>4</th>\n",
       "      <td>0</td>\n",
       "      <td>French music and book retailer Fnac Darty said on Wednesday it had agreed to sell its Brazilian ...</td>\n",
       "    </tr>\n",
       "    <tr>\n",
       "      <th>...</th>\n",
       "      <td>...</td>\n",
       "      <td>...</td>\n",
       "    </tr>\n",
       "    <tr>\n",
       "      <th>21995</th>\n",
       "      <td>2</td>\n",
       "      <td>99-570, 100 Stat. 3207 (ADAA) became effective on the date of the ADAA's enactment, i.e., Octobe...</td>\n",
       "    </tr>\n",
       "    <tr>\n",
       "      <th>21996</th>\n",
       "      <td>2</td>\n",
       "      <td>old Joseph Bader, who was Seth's adopted son and biological cousin. In December 1997, Joseph agr...</td>\n",
       "    </tr>\n",
       "    <tr>\n",
       "      <th>21997</th>\n",
       "      <td>2</td>\n",
       "      <td>admitted  to masterminding  a long-standing  scheme to  steal advance copies of civil service ex...</td>\n",
       "    </tr>\n",
       "    <tr>\n",
       "      <th>21998</th>\n",
       "      <td>2</td>\n",
       "      <td>pursuant to his pleas, of one specification of absence without leave, two specifications of disr...</td>\n",
       "    </tr>\n",
       "    <tr>\n",
       "      <th>21999</th>\n",
       "      <td>2</td>\n",
       "      <td>than $500.00, two specifications of conduct unbecoming an officer, and two specifications of sol...</td>\n",
       "    </tr>\n",
       "  </tbody>\n",
       "</table>\n",
       "<p>20686 rows × 2 columns</p>\n",
       "</div>"
      ],
      "text/plain": [
       "       class  \\\n",
       "0          0   \n",
       "1          0   \n",
       "2          2   \n",
       "3          0   \n",
       "4          0   \n",
       "...      ...   \n",
       "21995      2   \n",
       "21996      2   \n",
       "21997      2   \n",
       "21998      2   \n",
       "21999      2   \n",
       "\n",
       "                                                                                                      text  \n",
       "0      When the Pittsburgh Penguins had a 2-0 series lead in the Stanley Cup Finals, the only question ...  \n",
       "1      A basket of economic indicators rose in June for the sixth consecutive month.The Conference Boar...  \n",
       "2      A federal judge halted late on Monday the deportation of all Iraqi nationals detained during imm...  \n",
       "3      Alexander Klimburg thinks we are not nearly as worried as we should be about internet-borne mayh...  \n",
       "4      French music and book retailer Fnac Darty said on Wednesday it had agreed to sell its Brazilian ...  \n",
       "...                                                                                                    ...  \n",
       "21995  99-570, 100 Stat. 3207 (ADAA) became effective on the date of the ADAA's enactment, i.e., Octobe...  \n",
       "21996  old Joseph Bader, who was Seth's adopted son and biological cousin. In December 1997, Joseph agr...  \n",
       "21997  admitted  to masterminding  a long-standing  scheme to  steal advance copies of civil service ex...  \n",
       "21998  pursuant to his pleas, of one specification of absence without leave, two specifications of disr...  \n",
       "21999  than $500.00, two specifications of conduct unbecoming an officer, and two specifications of sol...  \n",
       "\n",
       "[20686 rows x 2 columns]"
      ]
     },
     "execution_count": 13,
     "metadata": {},
     "output_type": "execute_result"
    }
   ],
   "source": [
    "df"
   ]
  },
  {
   "cell_type": "code",
   "execution_count": 14,
   "metadata": {},
   "outputs": [
    {
     "data": {
      "text/plain": [
       "2    6179\n",
       "3    4925\n",
       "0    4836\n",
       "1    4746\n",
       "Name: class, dtype: int64"
      ]
     },
     "execution_count": 14,
     "metadata": {},
     "output_type": "execute_result"
    }
   ],
   "source": [
    "df['class'].value_counts() # imbalanced dataset"
   ]
  },
  {
   "cell_type": "code",
   "execution_count": 15,
   "metadata": {},
   "outputs": [],
   "source": [
    "# Creating the corpus\n",
    "def create_corpus(data):\n",
    "    corpus = []\n",
    "    doc_len_arr = []\n",
    "\n",
    "    for doc in data:\n",
    "        # Document tokenization by whitespaces\n",
    "        doc_split = [token for token in WhitespaceTokenizer().tokenize(doc)]\n",
    "        \n",
    "        corpus.append(doc_split)\n",
    "        doc_len_arr.append(len(doc_split))\n",
    "        \n",
    "    return corpus, doc_len_arr"
   ]
  },
  {
   "cell_type": "code",
   "execution_count": 16,
   "metadata": {},
   "outputs": [],
   "source": [
    "df = df.reset_index(drop=True)"
   ]
  },
  {
   "cell_type": "code",
   "execution_count": 17,
   "metadata": {},
   "outputs": [],
   "source": [
    "corpus, doc_len_arr = create_corpus(df['text'])"
   ]
  },
  {
   "cell_type": "code",
   "execution_count": 18,
   "metadata": {},
   "outputs": [
    {
     "data": {
      "image/png": "[encoded data removed]",
      "text/plain": [
       "<Figure size 1224x360 with 1 Axes>"
      ]
     },
     "metadata": {
      "needs_background": "light"
     },
     "output_type": "display_data"
    }
   ],
   "source": [
    "# Ploting the paragraph lenghts after whitespace tokenization\n",
    "plt.figure(figsize=(17,5))\n",
    "plt.ylabel('Frequency')\n",
    "plt.xlabel('Length')\n",
    "plt.title('Paragraph Distribution by length', fontsize=15)\n",
    "pd.Series(doc_len_arr).value_counts().plot(kind='bar');"
   ]
  },
  {
   "cell_type": "markdown",
   "metadata": {},
   "source": [
    "## Exploring paragraphs by lenghts"
   ]
  },
  {
   "cell_type": "code",
   "execution_count": 19,
   "metadata": {},
   "outputs": [
    {
     "name": "stdout",
     "output_type": "stream",
     "text": [
      "Max paragraph lenghts is 41155 tokens\n"
     ]
    },
    {
     "data": {
      "text/plain": [
       "class                                                                                                      2\n",
       "text     under AFCCA Rule of Practice and Procedure 18.4. MITCHELL, Chief Judge: A general court-martial ...\n",
       "Name: 12534, dtype: object"
      ]
     },
     "execution_count": 19,
     "metadata": {},
     "output_type": "execute_result"
    }
   ],
   "source": [
    "print(\"Max paragraph lenghts is\", np.max(doc_len_arr), 'tokens')\n",
    "max_par_idx = np.argmax(doc_len_arr)\n",
    "df.iloc[max_par_idx]"
   ]
  },
  {
   "cell_type": "code",
   "execution_count": 20,
   "metadata": {},
   "outputs": [
    {
     "name": "stdout",
     "output_type": "stream",
     "text": [
      "Min paragraph lenghts is 1 tokens\n"
     ]
    },
    {
     "data": {
      "text/plain": [
       "class      2\n",
       "text     -2-\n",
       "Name: 8173, dtype: object"
      ]
     },
     "execution_count": 20,
     "metadata": {},
     "output_type": "execute_result"
    }
   ],
   "source": [
    "print(\"Min paragraph lenghts is\", np.min(doc_len_arr), 'tokens')\n",
    "min_par_idx = np.argmin(doc_len_arr)\n",
    "df.iloc[min_par_idx]"
   ]
  },
  {
   "cell_type": "code",
   "execution_count": 21,
   "metadata": {},
   "outputs": [],
   "source": [
    "# Converting to numpy\n",
    "doc_len_arr = np.array(doc_len_arr)"
   ]
  },
  {
   "cell_type": "code",
   "execution_count": 22,
   "metadata": {},
   "outputs": [],
   "source": [
    "# Paragraphs by len 0 to 7\n",
    "len_0 = np.argwhere(doc_len_arr==0).flatten()\n",
    "len_1 = np.argwhere(doc_len_arr==1).flatten()\n",
    "len_2 = np.argwhere(doc_len_arr==2).flatten()\n",
    "len_3 = np.argwhere(doc_len_arr==3).flatten()\n",
    "len_4 = np.argwhere(doc_len_arr==4).flatten()\n",
    "len_5 = np.argwhere(doc_len_arr==5).flatten()\n",
    "len_6 = np.argwhere(doc_len_arr==6).flatten()\n",
    "len_7 = np.argwhere(doc_len_arr==7).flatten()"
   ]
  },
  {
   "cell_type": "code",
   "execution_count": 23,
   "metadata": {},
   "outputs": [
    {
     "data": {
      "text/html": [
       "<div>\n",
       "<style scoped>\n",
       "    .dataframe tbody tr th:only-of-type {\n",
       "        vertical-align: middle;\n",
       "    }\n",
       "\n",
       "    .dataframe tbody tr th {\n",
       "        vertical-align: top;\n",
       "    }\n",
       "\n",
       "    .dataframe thead th {\n",
       "        text-align: right;\n",
       "    }\n",
       "</style>\n",
       "<table border=\"1\" class=\"dataframe\">\n",
       "  <thead>\n",
       "    <tr style=\"text-align: right;\">\n",
       "      <th></th>\n",
       "      <th>class</th>\n",
       "      <th>text</th>\n",
       "    </tr>\n",
       "  </thead>\n",
       "  <tbody>\n",
       "  </tbody>\n",
       "</table>\n",
       "</div>"
      ],
      "text/plain": [
       "Empty DataFrame\n",
       "Columns: [class, text]\n",
       "Index: []"
      ]
     },
     "execution_count": 23,
     "metadata": {},
     "output_type": "execute_result"
    }
   ],
   "source": [
    "df.iloc[len_0]"
   ]
  },
  {
   "cell_type": "code",
   "execution_count": 24,
   "metadata": {
    "scrolled": true
   },
   "outputs": [
    {
     "data": {
      "text/html": [
       "<div>\n",
       "<style scoped>\n",
       "    .dataframe tbody tr th:only-of-type {\n",
       "        vertical-align: middle;\n",
       "    }\n",
       "\n",
       "    .dataframe tbody tr th {\n",
       "        vertical-align: top;\n",
       "    }\n",
       "\n",
       "    .dataframe thead th {\n",
       "        text-align: right;\n",
       "    }\n",
       "</style>\n",
       "<table border=\"1\" class=\"dataframe\">\n",
       "  <thead>\n",
       "    <tr style=\"text-align: right;\">\n",
       "      <th></th>\n",
       "      <th>class</th>\n",
       "      <th>text</th>\n",
       "    </tr>\n",
       "  </thead>\n",
       "  <tbody>\n",
       "    <tr>\n",
       "      <th>8173</th>\n",
       "      <td>2</td>\n",
       "      <td>-2-</td>\n",
       "    </tr>\n",
       "    <tr>\n",
       "      <th>10251</th>\n",
       "      <td>2</td>\n",
       "      <td>2</td>\n",
       "    </tr>\n",
       "    <tr>\n",
       "      <th>11391</th>\n",
       "      <td>2</td>\n",
       "      <td>\"Cáceres's\".</td>\n",
       "    </tr>\n",
       "    <tr>\n",
       "      <th>13808</th>\n",
       "      <td>2</td>\n",
       "      <td>-3-</td>\n",
       "    </tr>\n",
       "    <tr>\n",
       "      <th>14027</th>\n",
       "      <td>2</td>\n",
       "      <td>Affirmed.</td>\n",
       "    </tr>\n",
       "    <tr>\n",
       "      <th>16320</th>\n",
       "      <td>3</td>\n",
       "      <td>TG-149</td>\n",
       "    </tr>\n",
       "    <tr>\n",
       "      <th>18074</th>\n",
       "      <td>3</td>\n",
       "      <td>####</td>\n",
       "    </tr>\n",
       "  </tbody>\n",
       "</table>\n",
       "</div>"
      ],
      "text/plain": [
       "       class          text\n",
       "8173       2           -2-\n",
       "10251      2             2\n",
       "11391      2  \"Cáceres's\".\n",
       "13808      2           -3-\n",
       "14027      2     Affirmed.\n",
       "16320      3        TG-149\n",
       "18074      3          ####"
      ]
     },
     "execution_count": 24,
     "metadata": {},
     "output_type": "execute_result"
    }
   ],
   "source": [
    "df.iloc[len_1]"
   ]
  },
  {
   "cell_type": "code",
   "execution_count": 25,
   "metadata": {},
   "outputs": [
    {
     "data": {
      "text/html": [
       "<div>\n",
       "<style scoped>\n",
       "    .dataframe tbody tr th:only-of-type {\n",
       "        vertical-align: middle;\n",
       "    }\n",
       "\n",
       "    .dataframe tbody tr th {\n",
       "        vertical-align: top;\n",
       "    }\n",
       "\n",
       "    .dataframe thead th {\n",
       "        text-align: right;\n",
       "    }\n",
       "</style>\n",
       "<table border=\"1\" class=\"dataframe\">\n",
       "  <thead>\n",
       "    <tr style=\"text-align: right;\">\n",
       "      <th></th>\n",
       "      <th>class</th>\n",
       "      <th>text</th>\n",
       "    </tr>\n",
       "  </thead>\n",
       "  <tbody>\n",
       "    <tr>\n",
       "      <th>18292</th>\n",
       "      <td>2</td>\n",
       "      <td>Affirmed. -2-</td>\n",
       "    </tr>\n",
       "  </tbody>\n",
       "</table>\n",
       "</div>"
      ],
      "text/plain": [
       "       class           text\n",
       "18292      2  Affirmed. -2-"
      ]
     },
     "execution_count": 25,
     "metadata": {},
     "output_type": "execute_result"
    }
   ],
   "source": [
    "df.iloc[len_2]"
   ]
  },
  {
   "cell_type": "code",
   "execution_count": 26,
   "metadata": {},
   "outputs": [
    {
     "data": {
      "text/html": [
       "<div>\n",
       "<style scoped>\n",
       "    .dataframe tbody tr th:only-of-type {\n",
       "        vertical-align: middle;\n",
       "    }\n",
       "\n",
       "    .dataframe tbody tr th {\n",
       "        vertical-align: top;\n",
       "    }\n",
       "\n",
       "    .dataframe thead th {\n",
       "        text-align: right;\n",
       "    }\n",
       "</style>\n",
       "<table border=\"1\" class=\"dataframe\">\n",
       "  <thead>\n",
       "    <tr style=\"text-align: right;\">\n",
       "      <th></th>\n",
       "      <th>class</th>\n",
       "      <th>text</th>\n",
       "    </tr>\n",
       "  </thead>\n",
       "  <tbody>\n",
       "    <tr>\n",
       "      <th>5084</th>\n",
       "      <td>3</td>\n",
       "      <td>Some interesting content</td>\n",
       "    </tr>\n",
       "    <tr>\n",
       "      <th>13559</th>\n",
       "      <td>3</td>\n",
       "      <td>Malik Ruslanovish Barkhanoev</td>\n",
       "    </tr>\n",
       "    <tr>\n",
       "      <th>19883</th>\n",
       "      <td>2</td>\n",
       "      <td>denied. Affirmed. -2-</td>\n",
       "    </tr>\n",
       "  </tbody>\n",
       "</table>\n",
       "</div>"
      ],
      "text/plain": [
       "       class                          text\n",
       "5084       3      Some interesting content\n",
       "13559      3  Malik Ruslanovish Barkhanoev\n",
       "19883      2         denied. Affirmed. -2-"
      ]
     },
     "execution_count": 26,
     "metadata": {},
     "output_type": "execute_result"
    }
   ],
   "source": [
    "df.iloc[len_3]"
   ]
  },
  {
   "cell_type": "code",
   "execution_count": 27,
   "metadata": {},
   "outputs": [
    {
     "data": {
      "text/html": [
       "<div>\n",
       "<style scoped>\n",
       "    .dataframe tbody tr th:only-of-type {\n",
       "        vertical-align: middle;\n",
       "    }\n",
       "\n",
       "    .dataframe tbody tr th {\n",
       "        vertical-align: top;\n",
       "    }\n",
       "\n",
       "    .dataframe thead th {\n",
       "        text-align: right;\n",
       "    }\n",
       "</style>\n",
       "<table border=\"1\" class=\"dataframe\">\n",
       "  <thead>\n",
       "    <tr style=\"text-align: right;\">\n",
       "      <th></th>\n",
       "      <th>class</th>\n",
       "      <th>text</th>\n",
       "    </tr>\n",
       "  </thead>\n",
       "  <tbody>\n",
       "    <tr>\n",
       "      <th>9701</th>\n",
       "      <td>2</td>\n",
       "      <td>Clerk of the Court</td>\n",
       "    </tr>\n",
       "    <tr>\n",
       "      <th>10988</th>\n",
       "      <td>2</td>\n",
       "      <td>is replaced with \"engulf\".</td>\n",
       "    </tr>\n",
       "    <tr>\n",
       "      <th>13083</th>\n",
       "      <td>3</td>\n",
       "      <td>Belarus Eastern Mediterranean Mali</td>\n",
       "    </tr>\n",
       "    <tr>\n",
       "      <th>16764</th>\n",
       "      <td>2</td>\n",
       "      <td>Appellants,      ) ) v.</td>\n",
       "    </tr>\n",
       "    <tr>\n",
       "      <th>20630</th>\n",
       "      <td>2</td>\n",
       "      <td>limitations is affirmed. -2-</td>\n",
       "    </tr>\n",
       "  </tbody>\n",
       "</table>\n",
       "</div>"
      ],
      "text/plain": [
       "       class                                text\n",
       "9701       2                  Clerk of the Court\n",
       "10988      2          is replaced with \"engulf\".\n",
       "13083      3  Belarus Eastern Mediterranean Mali\n",
       "16764      2             Appellants,      ) ) v.\n",
       "20630      2        limitations is affirmed. -2-"
      ]
     },
     "execution_count": 27,
     "metadata": {},
     "output_type": "execute_result"
    }
   ],
   "source": [
    "df.iloc[len_4]"
   ]
  },
  {
   "cell_type": "code",
   "execution_count": 28,
   "metadata": {},
   "outputs": [
    {
     "data": {
      "text/html": [
       "<div>\n",
       "<style scoped>\n",
       "    .dataframe tbody tr th:only-of-type {\n",
       "        vertical-align: middle;\n",
       "    }\n",
       "\n",
       "    .dataframe tbody tr th {\n",
       "        vertical-align: top;\n",
       "    }\n",
       "\n",
       "    .dataframe thead th {\n",
       "        text-align: right;\n",
       "    }\n",
       "</style>\n",
       "<table border=\"1\" class=\"dataframe\">\n",
       "  <thead>\n",
       "    <tr style=\"text-align: right;\">\n",
       "      <th></th>\n",
       "      <th>class</th>\n",
       "      <th>text</th>\n",
       "    </tr>\n",
       "  </thead>\n",
       "  <tbody>\n",
       "    <tr>\n",
       "      <th>5756</th>\n",
       "      <td>2</td>\n",
       "      <td>the ground that the results.\"</td>\n",
       "    </tr>\n",
       "    <tr>\n",
       "      <th>6027</th>\n",
       "      <td>3</td>\n",
       "      <td>Umar al-Kubaysi Al-Kawthar Money Exchange</td>\n",
       "    </tr>\n",
       "    <tr>\n",
       "      <th>8651</th>\n",
       "      <td>2</td>\n",
       "      <td>Affirmed.     Loc. R. 27(c). -2-</td>\n",
       "    </tr>\n",
       "    <tr>\n",
       "      <th>18712</th>\n",
       "      <td>2</td>\n",
       "      <td>\"its EAs that are lengthy\".</td>\n",
       "    </tr>\n",
       "  </tbody>\n",
       "</table>\n",
       "</div>"
      ],
      "text/plain": [
       "       class                                       text\n",
       "5756       2              the ground that the results.\"\n",
       "6027       3  Umar al-Kubaysi Al-Kawthar Money Exchange\n",
       "8651       2           Affirmed.     Loc. R. 27(c). -2-\n",
       "18712      2                \"its EAs that are lengthy\"."
      ]
     },
     "execution_count": 28,
     "metadata": {},
     "output_type": "execute_result"
    }
   ],
   "source": [
    "df.iloc[len_5]"
   ]
  },
  {
   "cell_type": "code",
   "execution_count": 29,
   "metadata": {},
   "outputs": [
    {
     "data": {
      "text/html": [
       "<div>\n",
       "<style scoped>\n",
       "    .dataframe tbody tr th:only-of-type {\n",
       "        vertical-align: middle;\n",
       "    }\n",
       "\n",
       "    .dataframe tbody tr th {\n",
       "        vertical-align: top;\n",
       "    }\n",
       "\n",
       "    .dataframe thead th {\n",
       "        text-align: right;\n",
       "    }\n",
       "</style>\n",
       "<table border=\"1\" class=\"dataframe\">\n",
       "  <thead>\n",
       "    <tr style=\"text-align: right;\">\n",
       "      <th></th>\n",
       "      <th>class</th>\n",
       "      <th>text</th>\n",
       "    </tr>\n",
       "  </thead>\n",
       "  <tbody>\n",
       "    <tr>\n",
       "      <th>6459</th>\n",
       "      <td>2</td>\n",
       "      <td>STEVEN LUCAS Clerk of the Court</td>\n",
       "    </tr>\n",
       "  </tbody>\n",
       "</table>\n",
       "</div>"
      ],
      "text/plain": [
       "      class                             text\n",
       "6459      2  STEVEN LUCAS Clerk of the Court"
      ]
     },
     "execution_count": 29,
     "metadata": {},
     "output_type": "execute_result"
    }
   ],
   "source": [
    "df.iloc[len_6]"
   ]
  },
  {
   "cell_type": "code",
   "execution_count": 30,
   "metadata": {
    "scrolled": false
   },
   "outputs": [
    {
     "data": {
      "text/html": [
       "<div>\n",
       "<style scoped>\n",
       "    .dataframe tbody tr th:only-of-type {\n",
       "        vertical-align: middle;\n",
       "    }\n",
       "\n",
       "    .dataframe tbody tr th {\n",
       "        vertical-align: top;\n",
       "    }\n",
       "\n",
       "    .dataframe thead th {\n",
       "        text-align: right;\n",
       "    }\n",
       "</style>\n",
       "<table border=\"1\" class=\"dataframe\">\n",
       "  <thead>\n",
       "    <tr style=\"text-align: right;\">\n",
       "      <th></th>\n",
       "      <th>class</th>\n",
       "      <th>text</th>\n",
       "    </tr>\n",
       "  </thead>\n",
       "  <tbody>\n",
       "    <tr>\n",
       "      <th>10443</th>\n",
       "      <td>2</td>\n",
       "      <td>Affirmed.  See 1st Cir. Loc. R. 27.1.</td>\n",
       "    </tr>\n",
       "    <tr>\n",
       "      <th>15402</th>\n",
       "      <td>1</td>\n",
       "      <td>TECHNOLOGIES, INC. and C. GREGORY EARLS, No.</td>\n",
       "    </tr>\n",
       "    <tr>\n",
       "      <th>15460</th>\n",
       "      <td>2</td>\n",
       "      <td>\"U.S. District Judge\" and not \"Chief Judge\".</td>\n",
       "    </tr>\n",
       "    <tr>\n",
       "      <th>15631</th>\n",
       "      <td>2</td>\n",
       "      <td>judgment of the district court is AFFIRMED.</td>\n",
       "    </tr>\n",
       "    <tr>\n",
       "      <th>16058</th>\n",
       "      <td>3</td>\n",
       "      <td>North Korean Banks North Korean Financial Representatives</td>\n",
       "    </tr>\n",
       "    <tr>\n",
       "      <th>19992</th>\n",
       "      <td>2</td>\n",
       "      <td>) GIRDWOOD MINING COMPANY, ) ) Appellee.</td>\n",
       "    </tr>\n",
       "  </tbody>\n",
       "</table>\n",
       "</div>"
      ],
      "text/plain": [
       "       class                                                       text\n",
       "10443      2                      Affirmed.  See 1st Cir. Loc. R. 27.1.\n",
       "15402      1               TECHNOLOGIES, INC. and C. GREGORY EARLS, No.\n",
       "15460      2               \"U.S. District Judge\" and not \"Chief Judge\".\n",
       "15631      2                judgment of the district court is AFFIRMED.\n",
       "16058      3  North Korean Banks North Korean Financial Representatives\n",
       "19992      2                   ) GIRDWOOD MINING COMPANY, ) ) Appellee."
      ]
     },
     "execution_count": 30,
     "metadata": {},
     "output_type": "execute_result"
    }
   ],
   "source": [
    "df.iloc[len_7]"
   ]
  },
  {
   "cell_type": "code",
   "execution_count": 31,
   "metadata": {},
   "outputs": [],
   "source": [
    "len_1_5 = np.concatenate((len_1, len_2, len_3, len_4, len_5), axis=0)"
   ]
  },
  {
   "cell_type": "code",
   "execution_count": 32,
   "metadata": {},
   "outputs": [
    {
     "data": {
      "text/plain": [
       "array([ 8173, 10251, 11391, 13808, 14027, 16320, 18074, 18292,  5084,\n",
       "       13559, 19883,  9701, 10988, 13083, 16764, 20630,  5756,  6027,\n",
       "        8651, 18712])"
      ]
     },
     "execution_count": 32,
     "metadata": {},
     "output_type": "execute_result"
    }
   ],
   "source": [
    "len_1_5"
   ]
  },
  {
   "cell_type": "code",
   "execution_count": 33,
   "metadata": {},
   "outputs": [],
   "source": [
    "df.drop(len_1_5, inplace=True)"
   ]
  },
  {
   "cell_type": "code",
   "execution_count": 34,
   "metadata": {},
   "outputs": [
    {
     "data": {
      "text/html": [
       "<div>\n",
       "<style scoped>\n",
       "    .dataframe tbody tr th:only-of-type {\n",
       "        vertical-align: middle;\n",
       "    }\n",
       "\n",
       "    .dataframe tbody tr th {\n",
       "        vertical-align: top;\n",
       "    }\n",
       "\n",
       "    .dataframe thead th {\n",
       "        text-align: right;\n",
       "    }\n",
       "</style>\n",
       "<table border=\"1\" class=\"dataframe\">\n",
       "  <thead>\n",
       "    <tr style=\"text-align: right;\">\n",
       "      <th></th>\n",
       "      <th>class</th>\n",
       "      <th>text</th>\n",
       "    </tr>\n",
       "  </thead>\n",
       "  <tbody>\n",
       "    <tr>\n",
       "      <th>0</th>\n",
       "      <td>0</td>\n",
       "      <td>When the Pittsburgh Penguins had a 2-0 series lead in the Stanley Cup Finals, the only question ...</td>\n",
       "    </tr>\n",
       "    <tr>\n",
       "      <th>1</th>\n",
       "      <td>0</td>\n",
       "      <td>A basket of economic indicators rose in June for the sixth consecutive month.The Conference Boar...</td>\n",
       "    </tr>\n",
       "    <tr>\n",
       "      <th>2</th>\n",
       "      <td>2</td>\n",
       "      <td>A federal judge halted late on Monday the deportation of all Iraqi nationals detained during imm...</td>\n",
       "    </tr>\n",
       "    <tr>\n",
       "      <th>3</th>\n",
       "      <td>0</td>\n",
       "      <td>Alexander Klimburg thinks we are not nearly as worried as we should be about internet-borne mayh...</td>\n",
       "    </tr>\n",
       "    <tr>\n",
       "      <th>4</th>\n",
       "      <td>0</td>\n",
       "      <td>French music and book retailer Fnac Darty said on Wednesday it had agreed to sell its Brazilian ...</td>\n",
       "    </tr>\n",
       "    <tr>\n",
       "      <th>...</th>\n",
       "      <td>...</td>\n",
       "      <td>...</td>\n",
       "    </tr>\n",
       "    <tr>\n",
       "      <th>20681</th>\n",
       "      <td>2</td>\n",
       "      <td>99-570, 100 Stat. 3207 (ADAA) became effective on the date of the ADAA's enactment, i.e., Octobe...</td>\n",
       "    </tr>\n",
       "    <tr>\n",
       "      <th>20682</th>\n",
       "      <td>2</td>\n",
       "      <td>old Joseph Bader, who was Seth's adopted son and biological cousin. In December 1997, Joseph agr...</td>\n",
       "    </tr>\n",
       "    <tr>\n",
       "      <th>20683</th>\n",
       "      <td>2</td>\n",
       "      <td>admitted  to masterminding  a long-standing  scheme to  steal advance copies of civil service ex...</td>\n",
       "    </tr>\n",
       "    <tr>\n",
       "      <th>20684</th>\n",
       "      <td>2</td>\n",
       "      <td>pursuant to his pleas, of one specification of absence without leave, two specifications of disr...</td>\n",
       "    </tr>\n",
       "    <tr>\n",
       "      <th>20685</th>\n",
       "      <td>2</td>\n",
       "      <td>than $500.00, two specifications of conduct unbecoming an officer, and two specifications of sol...</td>\n",
       "    </tr>\n",
       "  </tbody>\n",
       "</table>\n",
       "<p>20666 rows × 2 columns</p>\n",
       "</div>"
      ],
      "text/plain": [
       "       class  \\\n",
       "0          0   \n",
       "1          0   \n",
       "2          2   \n",
       "3          0   \n",
       "4          0   \n",
       "...      ...   \n",
       "20681      2   \n",
       "20682      2   \n",
       "20683      2   \n",
       "20684      2   \n",
       "20685      2   \n",
       "\n",
       "                                                                                                      text  \n",
       "0      When the Pittsburgh Penguins had a 2-0 series lead in the Stanley Cup Finals, the only question ...  \n",
       "1      A basket of economic indicators rose in June for the sixth consecutive month.The Conference Boar...  \n",
       "2      A federal judge halted late on Monday the deportation of all Iraqi nationals detained during imm...  \n",
       "3      Alexander Klimburg thinks we are not nearly as worried as we should be about internet-borne mayh...  \n",
       "4      French music and book retailer Fnac Darty said on Wednesday it had agreed to sell its Brazilian ...  \n",
       "...                                                                                                    ...  \n",
       "20681  99-570, 100 Stat. 3207 (ADAA) became effective on the date of the ADAA's enactment, i.e., Octobe...  \n",
       "20682  old Joseph Bader, who was Seth's adopted son and biological cousin. In December 1997, Joseph agr...  \n",
       "20683  admitted  to masterminding  a long-standing  scheme to  steal advance copies of civil service ex...  \n",
       "20684  pursuant to his pleas, of one specification of absence without leave, two specifications of disr...  \n",
       "20685  than $500.00, two specifications of conduct unbecoming an officer, and two specifications of sol...  \n",
       "\n",
       "[20666 rows x 2 columns]"
      ]
     },
     "execution_count": 34,
     "metadata": {},
     "output_type": "execute_result"
    }
   ],
   "source": [
    "df"
   ]
  },
  {
   "cell_type": "code",
   "execution_count": 35,
   "metadata": {},
   "outputs": [
    {
     "data": {
      "text/plain": [
       "2    6165\n",
       "3    4919\n",
       "0    4836\n",
       "1    4746\n",
       "Name: class, dtype: int64"
      ]
     },
     "execution_count": 35,
     "metadata": {},
     "output_type": "execute_result"
    }
   ],
   "source": [
    "df['class'].value_counts() # imbalanced dataset"
   ]
  },
  {
   "cell_type": "code",
   "execution_count": 39,
   "metadata": {
    "scrolled": true
   },
   "outputs": [],
   "source": [
    "df.to_csv('./data/train_cleaned.txt', header=None, index=None, sep=' ', mode='a', doublequote=False, escapechar=' ')"
   ]
  },
  {
   "cell_type": "code",
   "execution_count": null,
   "metadata": {},
   "outputs": [],
   "source": []
  }
 ],
 "metadata": {
  "kernelspec": {
   "display_name": "Python 3",
   "language": "python",
   "name": "python3"
  },
  "language_info": {
   "codemirror_mode": {
    "name": "ipython",
    "version": 3
   },
   "file_extension": ".py",
   "mimetype": "text/x-python",
   "name": "python",
   "nbconvert_exporter": "python",
   "pygments_lexer": "ipython3",
   "version": "3.8.5"
  }
 },
 "nbformat": 4,
 "nbformat_minor": 4
}
